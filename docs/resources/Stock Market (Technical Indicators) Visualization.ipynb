{
 "cells": [
  {
   "cell_type": "markdown",
   "metadata": {},
   "source": [
    "# Stock Market Visualization"
   ]
  },
  {
   "cell_type": "code",
   "execution_count": null,
   "metadata": {},
   "outputs": [],
   "source": [
    "# Import Modules\n",
    "\n",
    "import numpy as np\n",
    "import pandas as pd\n",
    "import os\n",
    "import random\n",
    "import copy\n",
    "import matplotlib.pyplot as plt\n",
    "import pandas"
   ]
  },
  {
   "cell_type": "markdown",
   "metadata": {},
   "source": [
    "## Read the data from Stock folder\n",
    "\n",
    "### Check how much data is available?"
   ]
  },
  {
   "cell_type": "code",
   "execution_count": null,
   "metadata": {},
   "outputs": [],
   "source": [
    "from subprocess import check_output\n",
    "print(check_output([\"ls\", \"../input\"]).decode(\"utf8\"))"
   ]
  },
  {
   "cell_type": "code",
   "execution_count": null,
   "metadata": {},
   "outputs": [],
   "source": [
    "os.chdir('../input/Data/Stocks/')\n",
    "list = os.listdir()\n",
    "number_files = len(list)\n",
    "print(number_files)"
   ]
  },
  {
   "cell_type": "markdown",
   "metadata": {},
   "source": [
    "Choose 8 random stock data for analysis"
   ]
  },
  {
   "cell_type": "code",
   "execution_count": null,
   "metadata": {},
   "outputs": [],
   "source": [
    "#filenames = [x for x in os.listdir(\"./Stocks/\") if x.endswith('.txt') and os.path.getsize(x) > 0]\n",
    "filenames = random.sample([x for x in os.listdir() if x.endswith('.txt') \n",
    "                           and os.path.getsize(os.path.join('',x)) > 0], 8)\n",
    "print(filenames)"
   ]
  },
  {
   "cell_type": "markdown",
   "metadata": {},
   "source": [
    "Read data into dataframes"
   ]
  },
  {
   "cell_type": "code",
   "execution_count": null,
   "metadata": {},
   "outputs": [],
   "source": [
    "data = []\n",
    "for filename in filenames:\n",
    "    df = pd.read_csv(os.path.join('',filename), sep=',')\n",
    "    label, _, _ = filename.split(sep='.')\n",
    "    df['Label'] = label\n",
    "    df['Date'] = pd.to_datetime(df['Date'])\n",
    "\n",
    "    data.append(df)"
   ]
  },
  {
   "cell_type": "code",
   "execution_count": null,
   "metadata": {},
   "outputs": [],
   "source": [
    "print(len(data))\n",
    "data[0].head()"
   ]
  },
  {
   "cell_type": "markdown",
   "metadata": {},
   "source": [
    "### Add various Technical Indicators in the dataframe\n",
    "\n",
    "There are many types of Technical Indicators. The Technical Indicators we are considering are:\n",
    "\n",
    " - RSI, Volume (plain), Bollinger Bands, Aroon, Price Volume Trend, acceleration bands\n",
    " - Stochastic, Chaikin Money Flow, Parabolic SAR, Rate of Change, Volume weighted average Price, momentum\n",
    " - Commodity Channel Index, On Balance Volume, Keltner Channels, Triple Exponential Moving Average, Normalized Averager True Range ,directional movement indicators\n",
    " - MACD, Money flowindex , Ichimoku, William %R, Volume MINMAX, adaptive moving average"
   ]
  },
  {
   "cell_type": "code",
   "execution_count": null,
   "metadata": {},
   "outputs": [],
   "source": [
    "TechIndicator = copy.deepcopy(data)"
   ]
  },
  {
   "cell_type": "markdown",
   "metadata": {},
   "source": [
    "### Calculation of Relative Strength Index (RSI)"
   ]
  },
  {
   "cell_type": "code",
   "execution_count": null,
   "metadata": {},
   "outputs": [],
   "source": [
    "# Relative Strength Index\n",
    "# Avg(PriceUp)/(Avg(PriceUP)+Avg(PriceDown)*100\n",
    "# Where: PriceUp(t)=1*(Price(t)-Price(t-1)){Price(t)- Price(t-1)>0};\n",
    "#        PriceDown(t)=-1*(Price(t)-Price(t-1)){Price(t)- Price(t-1)<0};\n",
    "\n",
    "def rsi(values):\n",
    "    up = values[values>0].mean()\n",
    "    down = -1*values[values<0].mean()\n",
    "    return 100 * up / (up + down)"
   ]
  },
  {
   "cell_type": "code",
   "execution_count": null,
   "metadata": {},
   "outputs": [],
   "source": [
    "# Add Momentum_1D column for all 15 stocks.\n",
    "# Momentum_1D = P(t) - P(t-1)\n",
    "for stock in range(len(TechIndicator)):\n",
    "    TechIndicator[stock]['Momentum_1D'] = (TechIndicator[stock]['Close']-TechIndicator[stock]['Close'].shift(1)).fillna(0)\n",
    "    TechIndicator[stock]['RSI_14D'] = TechIndicator[stock]['Momentum_1D'].rolling(center=False, window=14).apply(rsi).fillna(0)\n",
    "TechIndicator[0].tail(5)"
   ]
  },
  {
   "cell_type": "markdown",
   "metadata": {},
   "source": [
    "### Calculation of Volume (Plain)m"
   ]
  },
  {
   "cell_type": "code",
   "execution_count": null,
   "metadata": {},
   "outputs": [],
   "source": [
    "for stock in range(len(TechIndicator)):\n",
    "    TechIndicator[stock]['Volume_plain'] = TechIndicator[stock]['Volume'].fillna(0)\n",
    "TechIndicator[0].tail()"
   ]
  },
  {
   "cell_type": "markdown",
   "metadata": {},
   "source": [
    "### Calculation of Bollinger Bands"
   ]
  },
  {
   "cell_type": "code",
   "execution_count": null,
   "metadata": {},
   "outputs": [],
   "source": [
    "def bbands(price, length=30, numsd=2):\n",
    "    \"\"\" returns average, upper band, and lower band\"\"\"\n",
    "    #ave = pd.stats.moments.rolling_mean(price,length)\n",
    "    ave = price.rolling(window = length, center = False).mean()\n",
    "    #sd = pd.stats.moments.rolling_std(price,length)\n",
    "    sd = price.rolling(window = length, center = False).std()\n",
    "    upband = ave + (sd*numsd)\n",
    "    dnband = ave - (sd*numsd)\n",
    "    return np.round(ave,3), np.round(upband,3), np.round(dnband,3)"
   ]
  },
  {
   "cell_type": "code",
   "execution_count": null,
   "metadata": {},
   "outputs": [],
   "source": [
    "for stock in range(len(TechIndicator)):\n",
    "    TechIndicator[stock]['BB_Middle_Band'], TechIndicator[stock]['BB_Upper_Band'], TechIndicator[stock]['BB_Lower_Band'] = bbands(TechIndicator[stock]['Close'], length=20, numsd=1)\n",
    "    TechIndicator[stock]['BB_Middle_Band'] = TechIndicator[stock]['BB_Middle_Band'].fillna(0)\n",
    "    TechIndicator[stock]['BB_Upper_Band'] = TechIndicator[stock]['BB_Upper_Band'].fillna(0)\n",
    "    TechIndicator[stock]['BB_Lower_Band'] = TechIndicator[stock]['BB_Lower_Band'].fillna(0)\n",
    "TechIndicator[0].tail()"
   ]
  },
  {
   "cell_type": "markdown",
   "metadata": {},
   "source": [
    "### Calculation of Aroon Oscillator"
   ]
  },
  {
   "cell_type": "code",
   "execution_count": null,
   "metadata": {},
   "outputs": [],
   "source": [
    "def aroon(df, tf=25):\n",
    "    aroonup = []\n",
    "    aroondown = []\n",
    "    x = tf\n",
    "    while x< len(df['Date']):\n",
    "        aroon_up = ((df['High'][x-tf:x].tolist().index(max(df['High'][x-tf:x])))/float(tf))*100\n",
    "        aroon_down = ((df['Low'][x-tf:x].tolist().index(min(df['Low'][x-tf:x])))/float(tf))*100\n",
    "        aroonup.append(aroon_up)\n",
    "        aroondown.append(aroon_down)\n",
    "        x+=1\n",
    "    return aroonup, aroondown"
   ]
  },
  {
   "cell_type": "code",
   "execution_count": null,
   "metadata": {},
   "outputs": [],
   "source": [
    "for stock in range(len(TechIndicator)):\n",
    "    listofzeros = [0] * 25\n",
    "    up, down = aroon(TechIndicator[stock])\n",
    "    aroon_list = [x - y for x, y in zip(up,down)]\n",
    "    if len(aroon_list)==0:\n",
    "        aroon_list = [0] * TechIndicator[stock].shape[0]\n",
    "        TechIndicator[stock]['Aroon_Oscillator'] = aroon_list\n",
    "    else:\n",
    "        TechIndicator[stock]['Aroon_Oscillator'] = listofzeros+aroon_list"
   ]
  },
  {
   "cell_type": "markdown",
   "metadata": {},
   "source": [
    "### Calculation of Price Volume Trend\n",
    "\n",
    "\n",
    "PVT = [((CurrentClose - PreviousClose) / PreviousClose) x Volume] + PreviousPVT\n"
   ]
  },
  {
   "cell_type": "code",
   "execution_count": null,
   "metadata": {},
   "outputs": [],
   "source": [
    "for stock in range(len(TechIndicator)):\n",
    "    TechIndicator[stock][\"PVT\"] = (TechIndicator[stock]['Momentum_1D']/ TechIndicator[stock]['Close'].shift(1))*TechIndicator[stock]['Volume']\n",
    "    TechIndicator[stock][\"PVT\"] = TechIndicator[stock][\"PVT\"]-TechIndicator[stock][\"PVT\"].shift(1)\n",
    "    TechIndicator[stock][\"PVT\"] = TechIndicator[stock][\"PVT\"].fillna(0)\n",
    "TechIndicator[0].tail()"
   ]
  },
  {
   "cell_type": "markdown",
   "metadata": {},
   "source": [
    "### Calculation of Acceleration Bands"
   ]
  },
  {
   "cell_type": "code",
   "execution_count": null,
   "metadata": {},
   "outputs": [],
   "source": [
    "def abands(df):\n",
    "    #df['AB_Middle_Band'] = pd.rolling_mean(df['Close'], 20)\n",
    "    df['AB_Middle_Band'] = df['Close'].rolling(window = 20, center=False).mean()\n",
    "    # High * ( 1 + 4 * (High - Low) / (High + Low))\n",
    "    df['aupband'] = df['High'] * (1 + 4 * (df['High']-df['Low'])/(df['High']+df['Low']))\n",
    "    df['AB_Upper_Band'] = df['aupband'].rolling(window=20, center=False).mean()\n",
    "    # Low *(1 - 4 * (High - Low)/ (High + Low))\n",
    "    df['adownband'] = df['Low'] * (1 - 4 * (df['High']-df['Low'])/(df['High']+df['Low']))\n",
    "    df['AB_Lower_Band'] = df['adownband'].rolling(window=20, center=False).mean()"
   ]
  },
  {
   "cell_type": "code",
   "execution_count": null,
   "metadata": {},
   "outputs": [],
   "source": [
    "for stock in range(len(TechIndicator)):\n",
    "    abands(TechIndicator[stock])\n",
    "    TechIndicator[stock] = TechIndicator[stock].fillna(0)\n",
    "TechIndicator[0].tail()"
   ]
  },
  {
   "cell_type": "markdown",
   "metadata": {},
   "source": [
    "## Drop unwanted columns"
   ]
  },
  {
   "cell_type": "code",
   "execution_count": null,
   "metadata": {},
   "outputs": [],
   "source": [
    "columns2Drop = ['Momentum_1D', 'aupband', 'adownband']\n",
    "for stock in range(len(TechIndicator)):\n",
    "    TechIndicator[stock] = TechIndicator[stock].drop(labels = columns2Drop, axis=1)\n",
    "TechIndicator[0].head()"
   ]
  },
  {
   "cell_type": "markdown",
   "metadata": {},
   "source": [
    "### Calculation of Stochastic Oscillator (%K and %D)"
   ]
  },
  {
   "cell_type": "code",
   "execution_count": null,
   "metadata": {},
   "outputs": [],
   "source": [
    "def STOK(df, n):\n",
    "    df['STOK'] = ((df['Close'] - df['Low'].rolling(window=n, center=False).mean()) / (df['High'].rolling(window=n, center=False).max() - df['Low'].rolling(window=n, center=False).min())) * 100\n",
    "    df['STOD'] = df['STOK'].rolling(window = 3, center=False).mean()"
   ]
  },
  {
   "cell_type": "code",
   "execution_count": null,
   "metadata": {},
   "outputs": [],
   "source": [
    "for stock in range(len(TechIndicator)):\n",
    "    STOK(TechIndicator[stock], 4)\n",
    "    TechIndicator[stock] = TechIndicator[stock].fillna(0)\n",
    "TechIndicator[0].tail()"
   ]
  },
  {
   "cell_type": "markdown",
   "metadata": {},
   "source": [
    "### Calculation of Chaikin Money Flow"
   ]
  },
  {
   "cell_type": "code",
   "execution_count": null,
   "metadata": {},
   "outputs": [],
   "source": [
    "def CMFlow(df, tf):\n",
    "    CHMF = []\n",
    "    MFMs = []\n",
    "    MFVs = []\n",
    "    x = tf\n",
    "    \n",
    "    while x < len(df['Date']):\n",
    "        PeriodVolume = 0\n",
    "        volRange = df['Volume'][x-tf:x]\n",
    "        for eachVol in volRange:\n",
    "            PeriodVolume += eachVol\n",
    "        \n",
    "        MFM = ((df['Close'][x] - df['Low'][x]) - (df['High'][x] - df['Close'][x])) / (df['High'][x] - df['Low'][x])\n",
    "        MFV = MFM*PeriodVolume\n",
    "        \n",
    "        MFMs.append(MFM)\n",
    "        MFVs.append(MFV)\n",
    "        x+=1\n",
    "    \n",
    "    y = tf\n",
    "    while y < len(MFVs):\n",
    "        PeriodVolume = 0\n",
    "        volRange = df['Volume'][x-tf:x]\n",
    "        for eachVol in volRange:\n",
    "            PeriodVolume += eachVol\n",
    "        consider = MFVs[y-tf:y]\n",
    "        tfsMFV = 0\n",
    "        \n",
    "        for eachMFV in consider:\n",
    "            tfsMFV += eachMFV\n",
    "        \n",
    "        tfsCMF = tfsMFV/PeriodVolume\n",
    "        CHMF.append(tfsCMF)\n",
    "        y+=1\n",
    "    return CHMF"
   ]
  },
  {
   "cell_type": "code",
   "execution_count": null,
   "metadata": {},
   "outputs": [],
   "source": [
    "for stock in range(len(TechIndicator)):\n",
    "    listofzeros = [0] * 40\n",
    "    CHMF = CMFlow(TechIndicator[stock], 20)\n",
    "    if len(CHMF)==0:\n",
    "        CHMF = [0] * TechIndicator[stock].shape[0]\n",
    "        TechIndicator[stock]['Chaikin_MF'] = CHMF\n",
    "    else:\n",
    "        TechIndicator[stock]['Chaikin_MF'] = listofzeros+CHMF\n",
    "TechIndicator[0].tail()"
   ]
  },
  {
   "cell_type": "markdown",
   "metadata": {},
   "source": [
    "### Calculation of Parabolic SAR"
   ]
  },
  {
   "cell_type": "code",
   "execution_count": null,
   "metadata": {},
   "outputs": [],
   "source": [
    "def psar(df, iaf = 0.02, maxaf = 0.2):\n",
    "    length = len(df)\n",
    "    dates = (df['Date'])\n",
    "    high = (df['High'])\n",
    "    low = (df['Low'])\n",
    "    close = (df['Close'])\n",
    "    psar = df['Close'][0:len(df['Close'])]\n",
    "    psarbull = [None] * length\n",
    "    psarbear = [None] * length\n",
    "    bull = True\n",
    "    af = iaf\n",
    "    ep = df['Low'][0]\n",
    "    hp = df['High'][0]\n",
    "    lp = df['Low'][0]\n",
    "    for i in range(2,length):\n",
    "        if bull:\n",
    "            psar[i] = psar[i - 1] + af * (hp - psar[i - 1])\n",
    "        else:\n",
    "            psar[i] = psar[i - 1] + af * (lp - psar[i - 1])\n",
    "        reverse = False\n",
    "        if bull:\n",
    "            if df['Low'][i] < psar[i]:\n",
    "                bull = False\n",
    "                reverse = True\n",
    "                psar[i] = hp\n",
    "                lp = df['Low'][i]\n",
    "                af = iaf\n",
    "        else:\n",
    "            if df['High'][i] > psar[i]:\n",
    "                bull = True\n",
    "                reverse = True\n",
    "                psar[i] = lp\n",
    "                hp = df['High'][i]\n",
    "                af = iaf\n",
    "        if not reverse:\n",
    "            if bull:\n",
    "                if df['High'][i] > hp:\n",
    "                    hp = df['High'][i]\n",
    "                    af = min(af + iaf, maxaf)\n",
    "                if df['Low'][i - 1] < psar[i]:\n",
    "                    psar[i] = df['Low'][i - 1]\n",
    "                if df['Low'][i - 2] < psar[i]:\n",
    "                    psar[i] = df['Low'][i - 2]\n",
    "            else:\n",
    "                if df['Low'][i] < lp:\n",
    "                    lp = df['Low'][i]\n",
    "                    af = min(af + iaf, maxaf)\n",
    "                if df['High'][i - 1] > psar[i]:\n",
    "                    psar[i] = df['High'][i - 1]\n",
    "                if df['High'][i - 2] > psar[i]:\n",
    "                    psar[i] = df['High'][i - 2]\n",
    "        if bull:\n",
    "            psarbull[i] = psar[i]\n",
    "        else:\n",
    "            psarbear[i] = psar[i]\n",
    "    #return {\"dates\":dates, \"high\":high, \"low\":low, \"close\":close, \"psar\":psar, \"psarbear\":psarbear, \"psarbull\":psarbull}\n",
    "    #return psar, psarbear, psarbull\n",
    "    df['psar'] = psar\n",
    "    #df['psarbear'] = psarbear\n",
    "    #df['psarbull'] = psarbull"
   ]
  },
  {
   "cell_type": "code",
   "execution_count": null,
   "metadata": {},
   "outputs": [],
   "source": [
    "for stock in range(len(TechIndicator)):\n",
    "    psar(TechIndicator[stock])\n",
    "\n",
    "TechIndicator[0].tail()"
   ]
  },
  {
   "cell_type": "markdown",
   "metadata": {},
   "source": [
    "### Calculation of Price Rate of Change"
   ]
  },
  {
   "cell_type": "code",
   "execution_count": null,
   "metadata": {},
   "outputs": [],
   "source": [
    "# ROC = [(Close - Close n periods ago) / (Close n periods ago)] * 100\n",
    "for stock in range(len(TechIndicator)):\n",
    "    TechIndicator[stock]['ROC'] = ((TechIndicator[stock]['Close'] - TechIndicator[stock]['Close'].shift(12))/(TechIndicator[stock]['Close'].shift(12)))*100\n",
    "    TechIndicator[stock] = TechIndicator[stock].fillna(0)\n",
    "TechIndicator[0].tail()"
   ]
  },
  {
   "cell_type": "markdown",
   "metadata": {},
   "source": [
    "### Calculation of Volume Weighted Average Price"
   ]
  },
  {
   "cell_type": "code",
   "execution_count": null,
   "metadata": {},
   "outputs": [],
   "source": [
    "for stock in range(len(TechIndicator)):\n",
    "    TechIndicator[stock]['VWAP'] = np.cumsum(TechIndicator[stock]['Volume'] * (TechIndicator[stock]['High'] + TechIndicator[stock]['Low'])/2) / np.cumsum(TechIndicator[stock]['Volume'])\n",
    "    TechIndicator[stock] = TechIndicator[stock].fillna(0)\n",
    "TechIndicator[0].tail()"
   ]
  },
  {
   "cell_type": "markdown",
   "metadata": {},
   "source": [
    "### Calculation of Momentum"
   ]
  },
  {
   "cell_type": "code",
   "execution_count": null,
   "metadata": {},
   "outputs": [],
   "source": [
    "for stock in range(len(TechIndicator)):\n",
    "    TechIndicator[stock]['Momentum'] = TechIndicator[stock]['Close'] - TechIndicator[stock]['Close'].shift(4)\n",
    "    TechIndicator[stock] = TechIndicator[stock].fillna(0)\n",
    "TechIndicator[0].tail()"
   ]
  },
  {
   "cell_type": "markdown",
   "metadata": {},
   "source": [
    "### Calculation of Commodity Channel Index"
   ]
  },
  {
   "cell_type": "code",
   "execution_count": null,
   "metadata": {},
   "outputs": [],
   "source": [
    "def CCI(df, n, constant):\n",
    "    TP = (df['High'] + df['Low'] + df['Close']) / 3\n",
    "    CCI = pd.Series((TP - TP.rolling(window=n, center=False).mean()) / (constant * TP.rolling(window=n, center=False).std())) #, name = 'CCI_' + str(n))\n",
    "    return CCI"
   ]
  },
  {
   "cell_type": "code",
   "execution_count": null,
   "metadata": {},
   "outputs": [],
   "source": [
    "for stock in range(len(TechIndicator)):\n",
    "    TechIndicator[stock]['CCI'] = CCI(TechIndicator[stock], 20, 0.015)\n",
    "    TechIndicator[stock] = TechIndicator[stock].fillna(0)\n",
    "TechIndicator[0].tail()"
   ]
  },
  {
   "cell_type": "markdown",
   "metadata": {},
   "source": [
    "### Calculation of On Balance Volume\n",
    "If the closing price is above the prior close price then: Current OBV = Previous OBV + Current Volume\n",
    "\n",
    "If the closing price is below the prior close price then: Current OBV = Previous OBV - Current Volume\n",
    "\n",
    "If the closing prices equals the prior close price then: Current OBV = Previous OBV (no change)"
   ]
  },
  {
   "cell_type": "code",
   "execution_count": null,
   "metadata": {},
   "outputs": [],
   "source": [
    "for stock in range(len(TechIndicator)):\n",
    "    new = (TechIndicator[stock]['Volume'] * (~TechIndicator[stock]['Close'].diff().le(0) * 2 -1)).cumsum()\n",
    "    TechIndicator[stock]['OBV'] = new\n",
    "TechIndicator[5].tail()"
   ]
  },
  {
   "cell_type": "markdown",
   "metadata": {},
   "source": [
    "### Calcualtion of Keltner Channels"
   ]
  },
  {
   "cell_type": "code",
   "execution_count": null,
   "metadata": {},
   "outputs": [],
   "source": [
    "#Keltner Channel  \n",
    "def KELCH(df, n):  \n",
    "    KelChM = pd.Series(((df['High'] + df['Low'] + df['Close']) / 3).rolling(window =n, center=False).mean(), name = 'KelChM_' + str(n))  \n",
    "    KelChU = pd.Series(((4 * df['High'] - 2 * df['Low'] + df['Close']) / 3).rolling(window =n, center=False).mean(), name = 'KelChU_' + str(n))  \n",
    "    KelChD = pd.Series(((-2 * df['High'] + 4 * df['Low'] + df['Close']) / 3).rolling(window =n, center=False).mean(), name = 'KelChD_' + str(n))    \n",
    "    return KelChM, KelChD, KelChU"
   ]
  },
  {
   "cell_type": "code",
   "execution_count": null,
   "metadata": {},
   "outputs": [],
   "source": [
    "for stock in range(len(TechIndicator)):\n",
    "    KelchM, KelchD, KelchU = KELCH(TechIndicator[stock], 14)\n",
    "    TechIndicator[stock]['Kelch_Upper'] = KelchU\n",
    "    TechIndicator[stock]['Kelch_Middle'] = KelchM\n",
    "    TechIndicator[stock]['Kelch_Down'] = KelchD\n",
    "    TechIndicator[stock] = TechIndicator[stock].fillna(0)\n",
    "TechIndicator[5].tail()"
   ]
  },
  {
   "cell_type": "markdown",
   "metadata": {},
   "source": [
    "### Calculation of Triple Exponential Moving Average\n",
    "\n",
    "Triple Exponential MA Formula:\n",
    "\n",
    "T-EMA = (3EMA – 3EMA(EMA)) + EMA(EMA(EMA))\n",
    "\n",
    "Where:\n",
    "\n",
    "EMA = EMA(1) + α * (Close – EMA(1))\n",
    "\n",
    "α = 2 / (N + 1)\n",
    "\n",
    "N = The smoothing period.\n"
   ]
  },
  {
   "cell_type": "code",
   "execution_count": null,
   "metadata": {},
   "outputs": [],
   "source": [
    "for stock in range(len(TechIndicator)):\n",
    "    TechIndicator[stock]['EMA'] = TechIndicator[stock]['Close'].ewm(span=3,min_periods=0,adjust=True,ignore_na=False).mean()\n",
    "    \n",
    "    TechIndicator[stock] = TechIndicator[stock].fillna(0)\n",
    "\n",
    "for stock in range(len(TechIndicator)):\n",
    "    TechIndicator[stock]['TEMA'] = (3 * TechIndicator[stock]['EMA'] - 3 * TechIndicator[stock]['EMA'] * TechIndicator[stock]['EMA']) + (TechIndicator[stock]['EMA']*TechIndicator[stock]['EMA']*TechIndicator[stock]['EMA'])\n",
    "TechIndicator[5].tail()"
   ]
  },
  {
   "cell_type": "markdown",
   "metadata": {},
   "source": [
    "### Calculation of Normalized Average True Range\n",
    "True Range = Highest of (HIgh - low, abs(High - previous close), abs(low - previous close))\n",
    "\n",
    "Average True Range = 14 day MA of True Range\n",
    "\n",
    "Normalized Average True Range = ATR / Close * 100"
   ]
  },
  {
   "cell_type": "code",
   "execution_count": null,
   "metadata": {},
   "outputs": [],
   "source": [
    "for stock in range(len(TechIndicator)):\n",
    "    TechIndicator[stock]['HL'] = TechIndicator[stock]['High'] - TechIndicator[stock]['Low']\n",
    "    TechIndicator[stock]['absHC'] = abs(TechIndicator[stock]['High'] - TechIndicator[stock]['Close'].shift(1))\n",
    "    TechIndicator[stock]['absLC'] = abs(TechIndicator[stock]['Low'] - TechIndicator[stock]['Close'].shift(1))\n",
    "    TechIndicator[stock]['TR'] = TechIndicator[stock][['HL','absHC','absLC']].max(axis=1)\n",
    "    TechIndicator[stock]['ATR'] = TechIndicator[stock]['TR'].rolling(window=14).mean()\n",
    "    TechIndicator[stock]['NATR'] = (TechIndicator[stock]['ATR'] / TechIndicator[stock]['Close']) *100\n",
    "    TechIndicator[stock] = TechIndicator[stock].fillna(0)\n",
    "TechIndicator[5].tail()"
   ]
  },
  {
   "cell_type": "markdown",
   "metadata": {},
   "source": [
    "### Calculation of Average Directional Movement Index (ADX)\n",
    "\n",
    "Calculating the DMI can actually be broken down into two parts. First, calculating the +DI and -DI, and second, calculating the ADX.\n",
    "\n",
    "To calculate the +DI and -DI you need to find the +DM and -DM (Directional Movement). +DM and -DM are calculated using the High, Low and Close for each period. You can then calculate the following:\n",
    "\n",
    "Current High - Previous High = UpMove Previous Low - Current Low = DownMove\n",
    "\n",
    "If UpMove > DownMove and UpMove > 0, then +DM = UpMove, else +DM = 0 If DownMove > Upmove and Downmove > 0, then -DM = DownMove, else -DM = 0\n",
    "\n",
    "Once you have the current +DM and -DM calculated, the +DM and -DM lines can be calculated and plotted based on the number of user defined periods.\n",
    "\n",
    "+DI = 100 times Exponential Moving Average of (+DM / Average True Range) -DI = 100 times Exponential Moving Average of (-DM / Average True Range)\n",
    "\n",
    "Now that -+DX and -DX have been calculated, the last step is calculating the ADX.\n",
    "\n",
    "ADX = 100 times the Exponential Moving Average of the Absolute Value of (+DI - -DI) / (+DI + -DI)\n"
   ]
  },
  {
   "cell_type": "code",
   "execution_count": null,
   "metadata": {},
   "outputs": [],
   "source": [
    "def DMI(df, period):\n",
    "    df['UpMove'] = df['High'] - df['High'].shift(1)\n",
    "    df['DownMove'] = df['Low'].shift(1) - df['Low']\n",
    "    df['Zero'] = 0\n",
    "\n",
    "    df['PlusDM'] = np.where((df['UpMove'] > df['DownMove']) & (df['UpMove'] > df['Zero']), df['UpMove'], 0)\n",
    "    df['MinusDM'] = np.where((df['UpMove'] < df['DownMove']) & (df['DownMove'] > df['Zero']), df['DownMove'], 0)\n",
    "\n",
    "    df['plusDI'] = 100 * (df['PlusDM']/df['ATR']).ewm(span=period,min_periods=0,adjust=True,ignore_na=False).mean()\n",
    "    df['minusDI'] = 100 * (df['MinusDM']/df['ATR']).ewm(span=period,min_periods=0,adjust=True,ignore_na=False).mean()\n",
    "\n",
    "    df['ADX'] = 100 * (abs((df['plusDI'] - df['minusDI'])/(df['plusDI'] + df['minusDI']))).ewm(span=period,min_periods=0,adjust=True,ignore_na=False).mean()"
   ]
  },
  {
   "cell_type": "code",
   "execution_count": null,
   "metadata": {},
   "outputs": [],
   "source": [
    "for stock in range(len(TechIndicator)):\n",
    "    DMI(TechIndicator[stock], 14)\n",
    "    TechIndicator[stock] = TechIndicator[stock].fillna(0)\n",
    "TechIndicator[5].tail()"
   ]
  },
  {
   "cell_type": "markdown",
   "metadata": {},
   "source": [
    "## Drop Unwanted Columns"
   ]
  },
  {
   "cell_type": "code",
   "execution_count": null,
   "metadata": {},
   "outputs": [],
   "source": [
    "columns2Drop = ['UpMove', 'DownMove', 'ATR', 'PlusDM', 'MinusDM', 'Zero', 'EMA', 'HL', 'absHC', 'absLC', 'TR']\n",
    "for stock in range(len(TechIndicator)):\n",
    "    TechIndicator[stock] = TechIndicator[stock].drop(labels = columns2Drop, axis=1)\n",
    "TechIndicator[2].head()"
   ]
  },
  {
   "cell_type": "markdown",
   "metadata": {},
   "source": [
    "### Calculation of MACD\n",
    "MACD: (12-day EMA - 26-day EMA)"
   ]
  },
  {
   "cell_type": "code",
   "execution_count": null,
   "metadata": {},
   "outputs": [],
   "source": [
    "for stock in range(len(TechIndicator)):\n",
    "    TechIndicator[stock]['26_ema'] = TechIndicator[stock]['Close'].ewm(span=26,min_periods=0,adjust=True,ignore_na=False).mean()\n",
    "    TechIndicator[stock]['12_ema'] = TechIndicator[stock]['Close'].ewm(span=12,min_periods=0,adjust=True,ignore_na=False).mean()\n",
    "    TechIndicator[stock]['MACD'] = TechIndicator[stock]['12_ema'] - TechIndicator[stock]['26_ema']\n",
    "    TechIndicator[stock] = TechIndicator[stock].fillna(0)\n",
    "TechIndicator[2].tail()"
   ]
  },
  {
   "cell_type": "markdown",
   "metadata": {},
   "source": [
    "### Calculation of Money Flow Index\n",
    "\n",
    "Typical Price = (High + Low + Close)/3\n",
    "\n",
    "Raw Money Flow = Typical Price x Volume\n",
    "\n",
    "The money flow is divided into positive and negative money flow.\n",
    "\n",
    "- Positive money flow is calculated by adding the money flow of all the days where the typical price is higher than the previous day's typical price.\n",
    "- Negative money flow is calculated by adding the money flow of all the days where the typical price is lower than the previous day's typical price.\n",
    "- If typical price is unchanged then that day is discarded.\n",
    "\n",
    "Money Flow Ratio = (14-period Positive Money Flow)/(14-period Negative Money Flow)\n",
    "\n",
    "Money Flow Index = 100 - 100/(1 + Money Flow Ratio)"
   ]
  },
  {
   "cell_type": "code",
   "execution_count": null,
   "metadata": {},
   "outputs": [],
   "source": [
    "def MFI(df):\n",
    "    # typical price\n",
    "    df['tp'] = (df['High']+df['Low']+df['Close'])/3\n",
    "    #raw money flow\n",
    "    df['rmf'] = df['tp'] * df['Volume']\n",
    "    \n",
    "    # positive and negative money flow\n",
    "    df['pmf'] = np.where(df['tp'] > df['tp'].shift(1), df['tp'], 0)\n",
    "    df['nmf'] = np.where(df['tp'] < df['tp'].shift(1), df['tp'], 0)\n",
    "\n",
    "    # money flow ratio\n",
    "    df['mfr'] = df['pmf'].rolling(window=14,center=False).sum()/df['nmf'].rolling(window=14,center=False).sum()\n",
    "    df['Money_Flow_Index'] = 100 - 100 / (1 + df['mfr'])"
   ]
  },
  {
   "cell_type": "code",
   "execution_count": null,
   "metadata": {},
   "outputs": [],
   "source": [
    "for stock in range(len(TechIndicator)):\n",
    "    MFI(TechIndicator[stock])\n",
    "    TechIndicator[stock] = TechIndicator[stock].fillna(0)\n",
    "TechIndicator[2].tail()"
   ]
  },
  {
   "cell_type": "markdown",
   "metadata": {},
   "source": [
    "### Calculations of Ichimoku Cloud\n",
    "\n",
    "Turning Line = ( Highest High + Lowest Low ) / 2, for the past 9 days\n",
    "\n",
    "Standard Line = ( Highest High + Lowest Low ) / 2, for the past 26 days\n",
    "\n",
    "Leading Span 1 = ( Standard Line + Turning Line ) / 2, plotted 26 days ahead of today\n",
    "\n",
    "Leading Span 2 = ( Highest High + Lowest Low ) / 2, for the past 52 days, plotted 26 days ahead of today\n",
    "\n",
    "Cloud = Shaded Area between Span 1 and Span 2"
   ]
  },
  {
   "cell_type": "code",
   "execution_count": null,
   "metadata": {},
   "outputs": [],
   "source": [
    "def ichimoku(df):\n",
    "    # Turning Line\n",
    "    period9_high = df['High'].rolling(window=9,center=False).max()\n",
    "    period9_low = df['Low'].rolling(window=9,center=False).min()\n",
    "    df['turning_line'] = (period9_high + period9_low) / 2\n",
    "    \n",
    "    # Standard Line\n",
    "    period26_high = df['High'].rolling(window=26,center=False).max()\n",
    "    period26_low = df['Low'].rolling(window=26,center=False).min()\n",
    "    df['standard_line'] = (period26_high + period26_low) / 2\n",
    "    \n",
    "    # Leading Span 1\n",
    "    df['ichimoku_span1'] = ((df['turning_line'] + df['standard_line']) / 2).shift(26)\n",
    "    \n",
    "    # Leading Span 2\n",
    "    period52_high = df['High'].rolling(window=52,center=False).max()\n",
    "    period52_low = df['Low'].rolling(window=52,center=False).min()\n",
    "    df['ichimoku_span2'] = ((period52_high + period52_low) / 2).shift(26)\n",
    "    \n",
    "    # The most current closing price plotted 22 time periods behind (optional)\n",
    "    df['chikou_span'] = df['Close'].shift(-22) # 22 according to investopedia"
   ]
  },
  {
   "cell_type": "code",
   "execution_count": null,
   "metadata": {},
   "outputs": [],
   "source": [
    "for stock in range(len(TechIndicator)):\n",
    "    ichimoku(TechIndicator[stock])\n",
    "    TechIndicator[stock] = TechIndicator[stock].fillna(0)\n",
    "TechIndicator[2].tail()"
   ]
  },
  {
   "cell_type": "markdown",
   "metadata": {},
   "source": [
    "### Calculation of William %R\n",
    "\n",
    "%R = -100 * ( ( Highest High - Close) / ( Highest High - Lowest Low ) )"
   ]
  },
  {
   "cell_type": "code",
   "execution_count": null,
   "metadata": {},
   "outputs": [],
   "source": [
    "def WillR(df):\n",
    "    highest_high = df['High'].rolling(window=14,center=False).max()\n",
    "    lowest_low = df['Low'].rolling(window=14,center=False).min()\n",
    "    df['WillR'] = (-100) * ((highest_high - df['Close']) / (highest_high - lowest_low))"
   ]
  },
  {
   "cell_type": "code",
   "execution_count": null,
   "metadata": {},
   "outputs": [],
   "source": [
    "for stock in range(len(TechIndicator)):\n",
    "    WillR(TechIndicator[stock])\n",
    "    TechIndicator[stock] = TechIndicator[stock].fillna(0)\n",
    "TechIndicator[2].tail()"
   ]
  },
  {
   "cell_type": "markdown",
   "metadata": {},
   "source": [
    "### Calculation of MINMAX"
   ]
  },
  {
   "cell_type": "code",
   "execution_count": null,
   "metadata": {},
   "outputs": [],
   "source": [
    "def MINMAX(df):\n",
    "    df['MIN_Volume'] = df['Volume'].rolling(window=14,center=False).min()\n",
    "    df['MAX_Volume'] = df['Volume'].rolling(window=14,center=False).max()"
   ]
  },
  {
   "cell_type": "code",
   "execution_count": null,
   "metadata": {},
   "outputs": [],
   "source": [
    "for stock in range(len(TechIndicator)):\n",
    "    MINMAX(TechIndicator[stock])\n",
    "    TechIndicator[stock] = TechIndicator[stock].fillna(0)\n",
    "TechIndicator[2].tail()"
   ]
  },
  {
   "cell_type": "markdown",
   "metadata": {},
   "source": [
    "### Calculation of Adaptive Moving Average"
   ]
  },
  {
   "cell_type": "code",
   "execution_count": null,
   "metadata": {},
   "outputs": [],
   "source": [
    "def KAMA(price, n=10, pow1=2, pow2=30):\n",
    "    ''' kama indicator '''    \n",
    "    ''' accepts pandas dataframe of prices '''\n",
    "\n",
    "    absDiffx = abs(price - price.shift(1) )  \n",
    "\n",
    "    ER_num = abs( price - price.shift(n) )\n",
    "    ER_den = absDiffx.rolling(window=n,center=False).sum()\n",
    "    ER = ER_num / ER_den\n",
    "\n",
    "    sc = ( ER*(2.0/(pow1+1)-2.0/(pow2+1.0))+2/(pow2+1.0) ) ** 2.0\n",
    "\n",
    "\n",
    "    answer = np.zeros(sc.size)\n",
    "    N = len(answer)\n",
    "    first_value = True\n",
    "\n",
    "    for i in range(N):\n",
    "        if sc[i] != sc[i]:\n",
    "            answer[i] = np.nan\n",
    "        else:\n",
    "            if first_value:\n",
    "                answer[i] = price[i]\n",
    "                first_value = False\n",
    "            else:\n",
    "                answer[i] = answer[i-1] + sc[i] * (price[i] - answer[i-1])\n",
    "    return answer"
   ]
  },
  {
   "cell_type": "code",
   "execution_count": null,
   "metadata": {},
   "outputs": [],
   "source": [
    "for stock in range(len(TechIndicator)):\n",
    "    TechIndicator[stock]['KAMA'] = KAMA(TechIndicator[stock]['Close'])\n",
    "    TechIndicator[stock] = TechIndicator[stock].fillna(0)\n",
    "TechIndicator[4].tail()"
   ]
  },
  {
   "cell_type": "markdown",
   "metadata": {},
   "source": [
    "## Drop Unwanted Columns"
   ]
  },
  {
   "cell_type": "code",
   "execution_count": 1,
   "metadata": {},
   "outputs": [
    {
     "ename": "NameError",
     "evalue": "name 'TechIndicator' is not defined",
     "output_type": "error",
     "traceback": [
      "\u001b[0;31m---------------------------------------------------------------------------\u001b[0m",
      "\u001b[0;31mNameError\u001b[0m                                 Traceback (most recent call last)",
      "\u001b[0;32m<ipython-input-1-e1d303b6f2d0>\u001b[0m in \u001b[0;36m<module>\u001b[0;34m()\u001b[0m\n\u001b[1;32m      1\u001b[0m \u001b[0mcolumns2Drop\u001b[0m \u001b[0;34m=\u001b[0m \u001b[0;34m[\u001b[0m\u001b[0;34m'26_ema'\u001b[0m\u001b[0;34m,\u001b[0m \u001b[0;34m'12_ema'\u001b[0m\u001b[0;34m,\u001b[0m\u001b[0;34m'tp'\u001b[0m\u001b[0;34m,\u001b[0m\u001b[0;34m'rmf'\u001b[0m\u001b[0;34m,\u001b[0m\u001b[0;34m'pmf'\u001b[0m\u001b[0;34m,\u001b[0m\u001b[0;34m'nmf'\u001b[0m\u001b[0;34m,\u001b[0m\u001b[0;34m'mfr'\u001b[0m\u001b[0;34m]\u001b[0m\u001b[0;34m\u001b[0m\u001b[0;34m\u001b[0m\u001b[0m\n\u001b[0;32m----> 2\u001b[0;31m \u001b[0;32mfor\u001b[0m \u001b[0mstock\u001b[0m \u001b[0;32min\u001b[0m \u001b[0mrange\u001b[0m\u001b[0;34m(\u001b[0m\u001b[0mlen\u001b[0m\u001b[0;34m(\u001b[0m\u001b[0mTechIndicator\u001b[0m\u001b[0;34m)\u001b[0m\u001b[0;34m)\u001b[0m\u001b[0;34m:\u001b[0m\u001b[0;34m\u001b[0m\u001b[0;34m\u001b[0m\u001b[0m\n\u001b[0m\u001b[1;32m      3\u001b[0m     \u001b[0mTechIndicator\u001b[0m\u001b[0;34m[\u001b[0m\u001b[0mstock\u001b[0m\u001b[0;34m]\u001b[0m \u001b[0;34m=\u001b[0m \u001b[0mTechIndicator\u001b[0m\u001b[0;34m[\u001b[0m\u001b[0mstock\u001b[0m\u001b[0;34m]\u001b[0m\u001b[0;34m.\u001b[0m\u001b[0mdrop\u001b[0m\u001b[0;34m(\u001b[0m\u001b[0mlabels\u001b[0m \u001b[0;34m=\u001b[0m \u001b[0mcolumns2Drop\u001b[0m\u001b[0;34m,\u001b[0m \u001b[0maxis\u001b[0m\u001b[0;34m=\u001b[0m\u001b[0;36m1\u001b[0m\u001b[0;34m)\u001b[0m\u001b[0;34m\u001b[0m\u001b[0;34m\u001b[0m\u001b[0m\n\u001b[1;32m      4\u001b[0m \u001b[0mTechIndicator\u001b[0m\u001b[0;34m[\u001b[0m\u001b[0;36m2\u001b[0m\u001b[0;34m]\u001b[0m\u001b[0;34m.\u001b[0m\u001b[0mhead\u001b[0m\u001b[0;34m(\u001b[0m\u001b[0;34m)\u001b[0m\u001b[0;34m\u001b[0m\u001b[0;34m\u001b[0m\u001b[0m\n",
      "\u001b[0;31mNameError\u001b[0m: name 'TechIndicator' is not defined"
     ]
    }
   ],
   "source": [
    "columns2Drop = ['26_ema', '12_ema','tp','rmf','pmf','nmf','mfr']\n",
    "for stock in range(len(TechIndicator)):\n",
    "    TechIndicator[stock] = TechIndicator[stock].drop(labels = columns2Drop, axis=1)\n",
    "TechIndicator[2].head()"
   ]
  },
  {
   "cell_type": "code",
   "execution_count": null,
   "metadata": {},
   "outputs": [],
   "source": []
  },
  {
   "cell_type": "code",
   "execution_count": null,
   "metadata": {},
   "outputs": [],
   "source": []
  },
  {
   "cell_type": "code",
   "execution_count": null,
   "metadata": {},
   "outputs": [],
   "source": []
  },
  {
   "cell_type": "markdown",
   "metadata": {},
   "source": [
    "# Visualization of technical indicators"
   ]
  },
  {
   "cell_type": "code",
   "execution_count": null,
   "metadata": {},
   "outputs": [],
   "source": [
    "TechIndicator[0].head()"
   ]
  },
  {
   "cell_type": "code",
   "execution_count": null,
   "metadata": {},
   "outputs": [],
   "source": [
    "for stock in range(len(TechIndicator)):\n",
    "    TechIndicator[stock].index = TechIndicator[stock]['Date']\n",
    "    TechIndicator[stock] = TechIndicator[stock].drop(labels = ['Date'], axis = 1)"
   ]
  },
  {
   "cell_type": "code",
   "execution_count": null,
   "metadata": {},
   "outputs": [],
   "source": [
    "TechIndicator[0].head()"
   ]
  },
  {
   "cell_type": "code",
   "execution_count": null,
   "metadata": {},
   "outputs": [],
   "source": [
    "%matplotlib inline\n",
    "\n",
    "# RSI Plot\n",
    "\n",
    "fig = plt.figure(figsize=(20,25))\n",
    "for i in range(8):\n",
    "    ax = plt.subplot(4,2,i+1)\n",
    "    ax.plot(TechIndicator[i].index, TechIndicator[i]['RSI_14D'])\n",
    "    ax.set_title(str(TechIndicator[i]['Label'][0]))\n",
    "    ax.set_xlabel(\"Date\")\n",
    "    ax.set_ylabel(\"Relative Strength Index\")\n",
    "    plt.xticks(rotation=30)\n",
    "fig.tight_layout()"
   ]
  },
  {
   "cell_type": "code",
   "execution_count": null,
   "metadata": {},
   "outputs": [],
   "source": [
    "# Volume Plain plot\n",
    "fig = plt.figure(figsize=(20,25))\n",
    "for i in range(8):\n",
    "    ax = plt.subplot(8,1,i+1)\n",
    "    ax.plot(TechIndicator[i].index, TechIndicator[i]['Volume_plain'], 'b')\n",
    "    ax.set_title(str(TechIndicator[i]['Label'][0]))\n",
    "    ax.set_xlabel(\"Date\")\n",
    "    ax.set_ylabel(\"Volume\")\n",
    "    plt.xticks(rotation=30)\n",
    "fig.tight_layout()"
   ]
  },
  {
   "cell_type": "code",
   "execution_count": null,
   "metadata": {},
   "outputs": [],
   "source": [
    "plt.style.use('fivethirtyeight')\n",
    "\n",
    "fig = plt.figure(figsize=(20,25))\n",
    "for i in range(8):\n",
    "    ax = plt.subplot(4,2,i+1)\n",
    "    ax.fill_between(TechIndicator[i].index, TechIndicator[i]['BB_Upper_Band'], TechIndicator[i]['BB_Lower_Band'], color='grey', label=\"Band Range\")\n",
    "    # Plot Adjust Closing Price and Moving Averages\n",
    "    ax.plot(TechIndicator[i].index, TechIndicator[i]['Close'], color='red', lw=2, label=\"Close\")\n",
    "    ax.plot(TechIndicator[i].index, TechIndicator[i]['BB_Middle_Band'], color='black', lw=2, label=\"Middle Band\")\n",
    "    ax.set_title(\"Bollinger Bands for \" + str(TechIndicator[i]['Label'][0]))\n",
    "    ax.legend()\n",
    "    ax.set_xlabel(\"Date\")\n",
    "    ax.set_ylabel(\"Close Prices\")\n",
    "    plt.xticks(rotation=30)\n",
    "fig.tight_layout()\n",
    "#.dt.to_pydatetime()"
   ]
  },
  {
   "cell_type": "code",
   "execution_count": null,
   "metadata": {},
   "outputs": [],
   "source": [
    "# Aroon Oscillator Plot\n",
    "plt.style.use('seaborn-whitegrid')\n",
    "fig = plt.figure(figsize=(20,25))\n",
    "for i in range(8):\n",
    "    ax = plt.subplot(4,2,i+1)\n",
    "    ax.fill(TechIndicator[i].index, TechIndicator[i]['Aroon_Oscillator'],'g', alpha = 0.5, label = \"Aroon Oscillator\")\n",
    "    ax.plot(TechIndicator[i].index, TechIndicator[i]['Close'], 'r', label=\"Close\")\n",
    "    ax.set_title(\"Aroon Oscillator for \" +str(TechIndicator[i]['Label'][0]))\n",
    "    ax.legend()\n",
    "    ax.set_xlabel(\"Date\")\n",
    "    ax.set_ylabel(\"Close Prices\")\n",
    "    plt.xticks(rotation=30)\n",
    "fig.tight_layout()"
   ]
  },
  {
   "cell_type": "code",
   "execution_count": null,
   "metadata": {},
   "outputs": [],
   "source": [
    "# PRice Volume Trend Plot\n",
    "fig = plt.figure(figsize=(20,25))\n",
    "for i in range(8):\n",
    "    ax = plt.subplot(8,1,i+1)\n",
    "    ax.plot(TechIndicator[i].index, TechIndicator[i]['PVT'], 'black')\n",
    "    ax.set_title(\"Price Volume Trend of \" +str(TechIndicator[i]['Label'][0]))\n",
    "    ax.set_xlabel(\"Date\")\n",
    "    ax.set_ylabel(\"Price Volume trend\")\n",
    "    plt.xticks(rotation=30)\n",
    "fig.tight_layout()"
   ]
  },
  {
   "cell_type": "code",
   "execution_count": null,
   "metadata": {},
   "outputs": [],
   "source": [
    "# Acceleration band Plot\n",
    "\n",
    "fig = plt.figure(figsize=(20,25))\n",
    "for i in range(8):\n",
    "    ax = plt.subplot(4,2,i+1)\n",
    "    ax.fill_between(TechIndicator[i].index, TechIndicator[i]['AB_Upper_Band'], TechIndicator[i]['AB_Lower_Band'], color='grey', label = \"Band-Range\")\n",
    "    # Plot Adjust Closing Price and Moving Averages\n",
    "    ax.plot(TechIndicator[i].index, TechIndicator[i]['Close'], color='red', lw=2, label = \"Close\")\n",
    "    ax.plot(TechIndicator[i].index, TechIndicator[i]['AB_Middle_Band'], color='black', lw=2, label=\"Middle_Band\")\n",
    "    ax.set_title(\"Acceleration Bands for \" + str(TechIndicator[i]['Label'][0]))\n",
    "    ax.legend()\n",
    "    ax.set_xlabel(\"Date\")\n",
    "    ax.set_ylabel(\"Close Prices\")\n",
    "    plt.xticks(rotation=30)\n",
    "fig.tight_layout()"
   ]
  },
  {
   "cell_type": "code",
   "execution_count": null,
   "metadata": {},
   "outputs": [],
   "source": [
    "# Stochastic Oscillator plots\n",
    "plt.style.use('seaborn-whitegrid')\n",
    "fig = plt.figure(figsize=(20,25))\n",
    "for i in range(8):\n",
    "    ax = plt.subplot(4,2,i+1)\n",
    "    ax.plot(TechIndicator[i].index, TechIndicator[i]['STOK'], 'blue', label=\"%K\")\n",
    "    ax.plot(TechIndicator[i].index, TechIndicator[i]['STOD'], 'red', label=\"%D\")\n",
    "    ax.plot(TechIndicator[i].index, TechIndicator[i]['Close'], color='black', lw=2, label = \"Close\")\n",
    "    ax.set_title(\"Stochastic Oscillators of \" +str(TechIndicator[i]['Label'][0]))\n",
    "    ax.legend()\n",
    "    ax.set_xlabel(\"Date\")\n",
    "    ax.set_ylabel(\"Close Price\")\n",
    "    plt.xticks(rotation=30)\n",
    "fig.tight_layout()"
   ]
  },
  {
   "cell_type": "code",
   "execution_count": null,
   "metadata": {},
   "outputs": [],
   "source": [
    "# Chaikin Money Flow Plots\n",
    "import matplotlib.gridspec as gridspec\n",
    "\n",
    "fig = plt.figure(figsize=(25,40))\n",
    "outer = gridspec.GridSpec(4, 2, wspace=0.2, hspace=0.2)\n",
    "\n",
    "for i in range(8):\n",
    "    inner = gridspec.GridSpecFromSubplotSpec(2, 1,\n",
    "                    subplot_spec=outer[i], wspace=0.1, hspace=0.1)\n",
    "\n",
    "    for j in range(2):\n",
    "        ax = plt.Subplot(fig, inner[j])\n",
    "        if j==0:\n",
    "            t = ax.fill(TechIndicator[i].index, TechIndicator[i]['Chaikin_MF'],'b', alpha = 0.5, label = \"Chaikin MF\")\n",
    "            ax.set_title(\"Chaikin Money Flow for \" +str(TechIndicator[i]['Label'][0]))\n",
    "            t = ax.set_ylabel(\"Money Flow\")\n",
    "        else:\n",
    "            t = ax.plot(TechIndicator[i].index, TechIndicator[i]['Close'], 'r', label=\"Close\")\n",
    "            t = ax.set_ylabel(\"Close\")\n",
    "        ax.legend()\n",
    "        ax.set_xlabel(\"Date\")\n",
    "        \n",
    "        fig.add_subplot(ax)\n",
    "fig.tight_layout()"
   ]
  },
  {
   "cell_type": "code",
   "execution_count": null,
   "metadata": {},
   "outputs": [],
   "source": [
    "# Parabolic SAR, Rate of Change, Momentum and VWAP Plots\n",
    "fig = plt.figure(figsize=(20,25))\n",
    "for i in range(8):\n",
    "    ax = plt.subplot(4,2,i+1)\n",
    "    ax.plot(TechIndicator[i].index, TechIndicator[i]['psar'], 'blue', label=\"PSAR\", alpha = 0.5)\n",
    "    ax.plot(TechIndicator[i].index, TechIndicator[i]['ROC'], 'red', label=\"ROC\", alpha = 0.5)\n",
    "    ax.plot(TechIndicator[i].index, TechIndicator[i]['Momentum'], 'green', label=\"Momentum\", alpha = 0.5)\n",
    "    ax.plot(TechIndicator[i].index, TechIndicator[i]['VWAP'], 'cyan', label=\"VWAP\", alpha = 0.5)\n",
    "    ax.set_title(\"PSAR, ROC, Momentum and VWAP of \" +str(TechIndicator[i]['Label'][0]))\n",
    "    ax.legend()\n",
    "    ax.set_xlabel(\"Date\")\n",
    "    ax.set_ylabel(\"Close Price\")\n",
    "    plt.xticks(rotation=30)\n",
    "fig.tight_layout()"
   ]
  },
  {
   "cell_type": "code",
   "execution_count": null,
   "metadata": {},
   "outputs": [],
   "source": [
    "# Commodity Channel Index, Triple Exponential Moving Average On Banalance Volume Plots\n",
    "\n",
    "fig = plt.figure(figsize=(25,80))\n",
    "outer = gridspec.GridSpec(4, 2, wspace=0.2, hspace=0.2)\n",
    "\n",
    "for i in range(8):\n",
    "    inner = gridspec.GridSpecFromSubplotSpec(3, 1,\n",
    "                    subplot_spec=outer[i], wspace=0.3, hspace=0.3)\n",
    "\n",
    "    for j in range(3):\n",
    "        ax = plt.Subplot(fig, inner[j])\n",
    "        if j==0:\n",
    "            t = ax.plot(TechIndicator[i].index, TechIndicator[i]['CCI'], 'green', label=\"CCI\")\n",
    "            t = ax.set_title(\"CCI for \" +str(TechIndicator[i]['Label'][0]))\n",
    "            t = ax.set_ylabel(\"Commodity Channel Index\")\n",
    "        elif j == 1:\n",
    "            t = ax.plot(TechIndicator[i].index, TechIndicator[i]['TEMA'], 'blue', label=\"TEMA\")\n",
    "            t = ax.set_title(\"TEMA for \" +str(TechIndicator[i]['Label'][0]))\n",
    "            t = ax.set_ylabel(\"TripleExponentiaL MA\")\n",
    "        else:\n",
    "            t = ax.plot(TechIndicator[i].index, TechIndicator[i]['OBV'], 'red', label=\"OBV\")\n",
    "            t = ax.set_title(\"OBV for \" +str(TechIndicator[i]['Label'][0]))\n",
    "            t = ax.set_ylabel(\"On Balance Volume\")\n",
    "        ax.legend()\n",
    "        #ax.set_title(\"CCI, TEMA, OBV for \" +str(techindi2[i]['Label'][0]))\n",
    "        ax.set_xlabel(\"Date\")\n",
    "        \n",
    "        fig.add_subplot(ax)\n",
    "fig.tight_layout()"
   ]
  },
  {
   "cell_type": "code",
   "execution_count": null,
   "metadata": {},
   "outputs": [],
   "source": [
    "# Normalized Average True range Plots\n",
    "plt.style.use('ggplot')\n",
    "fig = plt.figure(figsize=(20,25))\n",
    "for i in range(8):\n",
    "    ax = plt.subplot(4,2,i+1)\n",
    "    ax.plot(TechIndicator[i].index, TechIndicator[i]['NATR'], 'red', label=\"NATR\", alpha = 0.5)\n",
    "    ax.plot(TechIndicator[i].index, TechIndicator[i]['Close'], 'cyan', label=\"Close\", alpha = 0.5)\n",
    "    ax.set_title(\"NATR of \" +str(TechIndicator[i]['Label'][0]))\n",
    "    ax.legend()\n",
    "    ax.set_xlabel(\"Date\")\n",
    "    ax.set_ylabel(\"Close Price\")\n",
    "    plt.xticks(rotation=30)\n",
    "fig.tight_layout()"
   ]
  },
  {
   "cell_type": "code",
   "execution_count": null,
   "metadata": {},
   "outputs": [],
   "source": [
    "# Keltner Channels Plots\n",
    "fig = plt.figure(figsize=(20,25))\n",
    "for i in range(8):\n",
    "    ax = plt.subplot(4,2,i+1)\n",
    "    ax.fill_between(TechIndicator[i].index, TechIndicator[i]['Kelch_Upper'], TechIndicator[i]['Kelch_Down'], \n",
    "                    color='blue', label = \"Band-Range\", alpha = 0.5)\n",
    "    # Plot Adjust Closing Price and Moving Averages\n",
    "    ax.plot(TechIndicator[i].index, TechIndicator[i]['Close'], color='red', label = \"Close\", alpha = 0.5)\n",
    "    ax.plot(TechIndicator[i].index, TechIndicator[i]['Kelch_Middle'], color='black', label=\"Middle_Band\", alpha = 0.5)\n",
    "    ax.set_title(\"Keltner Channels for \" + str(TechIndicator[i]['Label'][0]))\n",
    "    ax.legend()\n",
    "    ax.set_xlabel(\"Date\")\n",
    "    ax.set_ylabel(\"Close Prices\")\n",
    "    plt.xticks(rotation=30)\n",
    "fig.tight_layout()"
   ]
  },
  {
   "cell_type": "code",
   "execution_count": null,
   "metadata": {},
   "outputs": [],
   "source": [
    "# Average Directional Index\n",
    "plt.style.use('seaborn-whitegrid')\n",
    "fig = plt.figure(figsize=(30,25))\n",
    "for i in range(8):\n",
    "    ax = plt.subplot(4,2,i+1)\n",
    "    ax.plot(TechIndicator[i].index, TechIndicator[i]['plusDI'], 'green', label=\"+DI\", alpha = 0.5)\n",
    "    ax.plot(TechIndicator[i].index, TechIndicator[i]['minusDI'], 'cyan', label=\"-DI\", alpha = 0.5)\n",
    "    ax.plot(TechIndicator[i].index, TechIndicator[i]['ADX'], 'red', label=\"ADX\", alpha = 0.5)\n",
    "    ax.set_title(\"Average Directional Index of \" +str(TechIndicator[i]['Label'][0]))\n",
    "    ax.legend()\n",
    "    ax.set_xlabel(\"Date\")\n",
    "    ax.set_ylabel(\"Price\")\n",
    "    plt.xticks(rotation=30)\n",
    "fig.tight_layout()"
   ]
  },
  {
   "cell_type": "code",
   "execution_count": null,
   "metadata": {},
   "outputs": [],
   "source": [
    "# Moving Average Convergence Divergence, Adaptive Moving Avergae Plots\n",
    "plt.style.use('seaborn-whitegrid')\n",
    "fig = plt.figure(figsize=(20,25))\n",
    "for i in range(8):\n",
    "    ax = plt.subplot(4,2,i+1)\n",
    "    ax.plot(TechIndicator[i].index, TechIndicator[i]['MACD'], 'green', label=\"MACD\", alpha = 0.5)\n",
    "    ax.plot(TechIndicator[i].index, TechIndicator[i]['KAMA'], 'blue', label=\"AMA\", alpha = 0.5)\n",
    "    ax.plot(TechIndicator[i].index, TechIndicator[i]['Close'], 'red', label=\"Close\", alpha = 0.5)\n",
    "    ax.set_title(\"MACD and KAMA of \" +str(TechIndicator[i]['Label'][0]))\n",
    "    ax.legend()\n",
    "    ax.set_xlabel(\"Date\")\n",
    "    ax.set_ylabel(\"Price\")\n",
    "    plt.xticks(rotation=30)\n",
    "fig.tight_layout()"
   ]
  },
  {
   "cell_type": "code",
   "execution_count": null,
   "metadata": {},
   "outputs": [],
   "source": [
    "# William %R, Money Flow\n",
    "fig = plt.figure(figsize=(25,50))\n",
    "outer = gridspec.GridSpec(4, 2, wspace=0.2, hspace=0.2)\n",
    "\n",
    "for i in range(8):\n",
    "    inner = gridspec.GridSpecFromSubplotSpec(3, 1,\n",
    "                    subplot_spec=outer[i], wspace=0.2, hspace=0.2)\n",
    "\n",
    "    for j in range(3):\n",
    "        ax = plt.Subplot(fig, inner[j])\n",
    "        if j==0:\n",
    "            t = ax.plot(TechIndicator[i].index, TechIndicator[i]['WillR'], 'green', label=\"William %R\")\n",
    "            t = ax.set_title(\"William %R for \" +str(TechIndicator[i]['Label'][0]))\n",
    "            t = ax.set_ylabel(\"Will%R\")\n",
    "        elif j ==1:\n",
    "            t = ax.plot(TechIndicator[i].index, TechIndicator[i]['Money_Flow_Index'], 'red', label=\"Money Flow Index\")\n",
    "            \n",
    "            t = ax.set_title(\"Money Flow Index for \" +str(TechIndicator[i]['Label'][0]))\n",
    "            t = ax.set_ylabel(\"MFI\")\n",
    "        else:\n",
    "            t = ax.plot(TechIndicator[i].index, TechIndicator[i]['Volume'], 'blue', label=\"Volume\", alpha = 0.5)\n",
    "            t = ax.plot(TechIndicator[i].index, TechIndicator[i]['MIN_Volume'], 'pink', label=\"MIN_Volume\", alpha = 0.5)\n",
    "            t = ax.plot(TechIndicator[i].index, TechIndicator[i]['MAX_Volume'], 'lightgreen', label=\"MAXVolume\",  alpha = 0.5)\n",
    "            t = ax.set_title(\"MINMAX Volume for \" +str(TechIndicator[i]['Label'][0]))\n",
    "            t = ax.set_ylabel(\"Volume\")\n",
    "        ax.legend()\n",
    "        #ax.set_title(\"CCI, TEMA, OBV for \" +str(techindi2[i]['Label'][0]))\n",
    "        ax.set_xlabel(\"Date\")\n",
    "        \n",
    "        fig.add_subplot(ax)\n",
    "fig.tight_layout()"
   ]
  },
  {
   "cell_type": "code",
   "execution_count": null,
   "metadata": {},
   "outputs": [],
   "source": [
    "# ichimoku Plots turning_line\tstandard_line\tichimoku_span1\tichimoku_span2\tchikou_span\n",
    "\n",
    "fig = plt.figure(figsize=(20,25))\n",
    "for i in range(8):\n",
    "    ax = plt.subplot(4,2,i+1)\n",
    "    ax.fill_between(TechIndicator[i].index, TechIndicator[i]['ichimoku_span1'], TechIndicator[i]['ichimoku_span2'], \n",
    "                    color='blue', label = \"ichimoku cloud\", alpha = 0.5)\n",
    "    # Plot Adjust Closing Price and Moving Averages\n",
    "    ax.plot(TechIndicator[i].index, TechIndicator[i]['turning_line'], color='red', label = \"Tenkan-sen\", alpha = 0.4)\n",
    "    ax.plot(TechIndicator[i].index, TechIndicator[i]['standard_line'], color='cyan', label=\"Kijun-sen\", alpha = 0.3)\n",
    "    ax.plot(TechIndicator[i].index, TechIndicator[i]['chikou_span'], color='green', label=\"Chikou-span\", alpha = 0.2)\n",
    "    ax.set_title(\"Ichimoku for \" + str(TechIndicator[i]['Label'][0]))\n",
    "    ax.legend()\n",
    "    ax.set_xlabel(\"Date\")\n",
    "    ax.set_ylabel(\"Prices\")\n",
    "    plt.xticks(rotation=30)\n",
    "fig.tight_layout()"
   ]
  },
  {
   "cell_type": "code",
   "execution_count": null,
   "metadata": {},
   "outputs": [],
   "source": []
  },
  {
   "cell_type": "markdown",
   "metadata": {},
   "source": [
    "I have also tried prediction of movement of stock market based on this data. You can refer to that kernel here: https://www.kaggle.com/kratisaxena/lstm-gru-models-for-stock-movement-analysis"
   ]
  },
  {
   "cell_type": "code",
   "execution_count": null,
   "metadata": {},
   "outputs": [],
   "source": [
    "https://www.kaggle.com/kratisaxena/stock-market-technical-indicators-visualization"
   ]
  },
  {
   "cell_type": "code",
   "execution_count": null,
   "metadata": {},
   "outputs": [],
   "source": []
  },
  {
   "cell_type": "code",
   "execution_count": null,
   "metadata": {},
   "outputs": [],
   "source": []
  },
  {
   "cell_type": "code",
   "execution_count": null,
   "metadata": {},
   "outputs": [],
   "source": []
  },
  {
   "cell_type": "code",
   "execution_count": null,
   "metadata": {},
   "outputs": [],
   "source": []
  },
  {
   "cell_type": "code",
   "execution_count": null,
   "metadata": {},
   "outputs": [],
   "source": []
  }
 ],
 "metadata": {
  "kernelspec": {
   "display_name": "MyProjectVirEnv",
   "language": "python",
   "name": "myprojectvirenv"
  },
  "language_info": {
   "codemirror_mode": {
    "name": "ipython",
    "version": 3
   },
   "file_extension": ".py",
   "mimetype": "text/x-python",
   "name": "python",
   "nbconvert_exporter": "python",
   "pygments_lexer": "ipython3",
   "version": "3.6.5"
  }
 },
 "nbformat": 4,
 "nbformat_minor": 2
}
